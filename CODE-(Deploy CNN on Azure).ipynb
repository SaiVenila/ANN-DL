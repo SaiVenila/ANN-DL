{
 "cells": [
  {
   "cell_type": "markdown",
   "id": "8cca2413-ee7c-4a9d-90f9-ee95893d96ec",
   "metadata": {},
   "source": [
    "**Installing the required libraries**"
   ]
  },
  {
   "cell_type": "code",
   "execution_count": 1,
   "id": "370e990a-2ad3-4687-90d0-2393e2c72b3f",
   "metadata": {},
   "outputs": [
    {
     "name": "stdout",
     "output_type": "stream",
     "text": [
      "Defaulting to user installation because normal site-packages is not writeable\n",
      "Requirement already satisfied: azure-ai-ml in c:\\users\\venila\\appdata\\roaming\\python\\python311\\site-packages (1.15.0)\n",
      "Requirement already satisfied: azure-identity in c:\\users\\venila\\appdata\\roaming\\python\\python311\\site-packages (1.15.0)\n",
      "Requirement already satisfied: pyyaml<7.0.0,>=5.1.0 in c:\\programdata\\anaconda3\\lib\\site-packages (from azure-ai-ml) (6.0)\n",
      "Requirement already satisfied: msrest>=0.6.18 in c:\\users\\venila\\appdata\\roaming\\python\\python311\\site-packages (from azure-ai-ml) (0.7.1)\n",
      "Requirement already satisfied: azure-core<2.0.0,>=1.23.0 in c:\\users\\venila\\appdata\\roaming\\python\\python311\\site-packages (from azure-ai-ml) (1.30.1)\n",
      "Requirement already satisfied: azure-mgmt-core<2.0.0,>=1.3.0 in c:\\users\\venila\\appdata\\roaming\\python\\python311\\site-packages (from azure-ai-ml) (1.4.0)\n",
      "Requirement already satisfied: marshmallow<4.0.0,>=3.5 in c:\\users\\venila\\appdata\\roaming\\python\\python311\\site-packages (from azure-ai-ml) (3.21.1)\n",
      "Requirement already satisfied: jsonschema<5.0.0,>=4.0.0 in c:\\programdata\\anaconda3\\lib\\site-packages (from azure-ai-ml) (4.17.3)\n",
      "Requirement already satisfied: tqdm<5.0.0 in c:\\programdata\\anaconda3\\lib\\site-packages (from azure-ai-ml) (4.65.0)\n",
      "Requirement already satisfied: strictyaml<2.0.0 in c:\\users\\venila\\appdata\\roaming\\python\\python311\\site-packages (from azure-ai-ml) (1.7.3)\n",
      "Requirement already satisfied: colorama<0.5.0 in c:\\programdata\\anaconda3\\lib\\site-packages (from azure-ai-ml) (0.4.6)\n",
      "Requirement already satisfied: pyjwt<3.0.0 in c:\\programdata\\anaconda3\\lib\\site-packages (from azure-ai-ml) (2.4.0)\n",
      "Requirement already satisfied: azure-storage-blob<13.0.0,>=12.10.0 in c:\\users\\venila\\appdata\\roaming\\python\\python311\\site-packages (from azure-ai-ml) (12.19.1)\n",
      "Requirement already satisfied: azure-storage-file-share<13.0.0 in c:\\users\\venila\\appdata\\roaming\\python\\python311\\site-packages (from azure-ai-ml) (12.15.0)\n",
      "Requirement already satisfied: azure-storage-file-datalake<13.0.0 in c:\\users\\venila\\appdata\\roaming\\python\\python311\\site-packages (from azure-ai-ml) (12.14.0)\n",
      "Requirement already satisfied: pydash>=6.0.0 in c:\\users\\venila\\appdata\\roaming\\python\\python311\\site-packages (from azure-ai-ml) (8.0.0)\n",
      "Requirement already satisfied: isodate in c:\\users\\venila\\appdata\\roaming\\python\\python311\\site-packages (from azure-ai-ml) (0.6.1)\n",
      "Requirement already satisfied: azure-common<2.0.0,>=1.1 in c:\\users\\venila\\appdata\\roaming\\python\\python311\\site-packages (from azure-ai-ml) (1.1.28)\n",
      "Requirement already satisfied: typing-extensions<5.0.0 in c:\\programdata\\anaconda3\\lib\\site-packages (from azure-ai-ml) (4.7.1)\n",
      "Requirement already satisfied: opencensus-ext-azure<2.0.0 in c:\\users\\venila\\appdata\\roaming\\python\\python311\\site-packages (from azure-ai-ml) (1.1.13)\n",
      "Requirement already satisfied: opencensus-ext-logging<=0.1.1 in c:\\users\\venila\\appdata\\roaming\\python\\python311\\site-packages (from azure-ai-ml) (0.1.1)\n",
      "Requirement already satisfied: cryptography>=2.5 in c:\\programdata\\anaconda3\\lib\\site-packages (from azure-identity) (41.0.3)\n",
      "Requirement already satisfied: msal<2.0.0,>=1.24.0 in c:\\users\\venila\\appdata\\roaming\\python\\python311\\site-packages (from azure-identity) (1.28.0)\n",
      "Requirement already satisfied: msal-extensions<2.0.0,>=0.3.0 in c:\\users\\venila\\appdata\\roaming\\python\\python311\\site-packages (from azure-identity) (1.1.0)\n",
      "Requirement already satisfied: requests>=2.21.0 in c:\\programdata\\anaconda3\\lib\\site-packages (from azure-core<2.0.0,>=1.23.0->azure-ai-ml) (2.31.0)\n",
      "Requirement already satisfied: six>=1.11.0 in c:\\programdata\\anaconda3\\lib\\site-packages (from azure-core<2.0.0,>=1.23.0->azure-ai-ml) (1.16.0)\n",
      "Requirement already satisfied: cffi>=1.12 in c:\\programdata\\anaconda3\\lib\\site-packages (from cryptography>=2.5->azure-identity) (1.15.1)\n",
      "Requirement already satisfied: attrs>=17.4.0 in c:\\programdata\\anaconda3\\lib\\site-packages (from jsonschema<5.0.0,>=4.0.0->azure-ai-ml) (22.1.0)\n",
      "Requirement already satisfied: pyrsistent!=0.17.0,!=0.17.1,!=0.17.2,>=0.14.0 in c:\\programdata\\anaconda3\\lib\\site-packages (from jsonschema<5.0.0,>=4.0.0->azure-ai-ml) (0.18.0)\n",
      "Requirement already satisfied: packaging>=17.0 in c:\\programdata\\anaconda3\\lib\\site-packages (from marshmallow<4.0.0,>=3.5->azure-ai-ml) (23.1)\n",
      "Requirement already satisfied: portalocker<3,>=1.6 in c:\\users\\venila\\appdata\\roaming\\python\\python311\\site-packages (from msal-extensions<2.0.0,>=0.3.0->azure-identity) (2.8.2)\n",
      "Requirement already satisfied: certifi>=2017.4.17 in c:\\programdata\\anaconda3\\lib\\site-packages (from msrest>=0.6.18->azure-ai-ml) (2023.7.22)\n",
      "Requirement already satisfied: requests-oauthlib>=0.5.0 in c:\\users\\venila\\appdata\\roaming\\python\\python311\\site-packages (from msrest>=0.6.18->azure-ai-ml) (2.0.0)\n",
      "Requirement already satisfied: opencensus<1.0.0,>=0.11.4 in c:\\users\\venila\\appdata\\roaming\\python\\python311\\site-packages (from opencensus-ext-azure<2.0.0->azure-ai-ml) (0.11.4)\n",
      "Requirement already satisfied: psutil>=5.6.3 in c:\\programdata\\anaconda3\\lib\\site-packages (from opencensus-ext-azure<2.0.0->azure-ai-ml) (5.9.0)\n",
      "Requirement already satisfied: python-dateutil>=2.6.0 in c:\\programdata\\anaconda3\\lib\\site-packages (from strictyaml<2.0.0->azure-ai-ml) (2.8.2)\n",
      "Requirement already satisfied: pycparser in c:\\programdata\\anaconda3\\lib\\site-packages (from cffi>=1.12->cryptography>=2.5->azure-identity) (2.21)\n",
      "Requirement already satisfied: opencensus-context>=0.1.3 in c:\\users\\venila\\appdata\\roaming\\python\\python311\\site-packages (from opencensus<1.0.0,>=0.11.4->opencensus-ext-azure<2.0.0->azure-ai-ml) (0.1.3)\n",
      "Requirement already satisfied: google-api-core<3.0.0,>=1.0.0 in c:\\users\\venila\\appdata\\roaming\\python\\python311\\site-packages (from opencensus<1.0.0,>=0.11.4->opencensus-ext-azure<2.0.0->azure-ai-ml) (2.18.0)\n",
      "Requirement already satisfied: pywin32>=226 in c:\\programdata\\anaconda3\\lib\\site-packages (from portalocker<3,>=1.6->msal-extensions<2.0.0,>=0.3.0->azure-identity) (305.1)\n",
      "Requirement already satisfied: charset-normalizer<4,>=2 in c:\\programdata\\anaconda3\\lib\\site-packages (from requests>=2.21.0->azure-core<2.0.0,>=1.23.0->azure-ai-ml) (2.0.4)\n",
      "Requirement already satisfied: idna<4,>=2.5 in c:\\programdata\\anaconda3\\lib\\site-packages (from requests>=2.21.0->azure-core<2.0.0,>=1.23.0->azure-ai-ml) (3.4)\n",
      "Requirement already satisfied: urllib3<3,>=1.21.1 in c:\\programdata\\anaconda3\\lib\\site-packages (from requests>=2.21.0->azure-core<2.0.0,>=1.23.0->azure-ai-ml) (1.26.16)\n",
      "Requirement already satisfied: oauthlib>=3.0.0 in c:\\users\\venila\\appdata\\roaming\\python\\python311\\site-packages (from requests-oauthlib>=0.5.0->msrest>=0.6.18->azure-ai-ml) (3.2.2)\n",
      "Requirement already satisfied: googleapis-common-protos<2.0.dev0,>=1.56.2 in c:\\users\\venila\\appdata\\roaming\\python\\python311\\site-packages (from google-api-core<3.0.0,>=1.0.0->opencensus<1.0.0,>=0.11.4->opencensus-ext-azure<2.0.0->azure-ai-ml) (1.63.0)\n",
      "Requirement already satisfied: protobuf!=3.20.0,!=3.20.1,!=4.21.0,!=4.21.1,!=4.21.2,!=4.21.3,!=4.21.4,!=4.21.5,<5.0.0.dev0,>=3.19.5 in c:\\users\\venila\\appdata\\roaming\\python\\python311\\site-packages (from google-api-core<3.0.0,>=1.0.0->opencensus<1.0.0,>=0.11.4->opencensus-ext-azure<2.0.0->azure-ai-ml) (4.25.3)\n",
      "Requirement already satisfied: proto-plus<2.0.0dev,>=1.22.3 in c:\\users\\venila\\appdata\\roaming\\python\\python311\\site-packages (from google-api-core<3.0.0,>=1.0.0->opencensus<1.0.0,>=0.11.4->opencensus-ext-azure<2.0.0->azure-ai-ml) (1.23.0)\n",
      "Requirement already satisfied: google-auth<3.0.dev0,>=2.14.1 in c:\\users\\venila\\appdata\\roaming\\python\\python311\\site-packages (from google-api-core<3.0.0,>=1.0.0->opencensus<1.0.0,>=0.11.4->opencensus-ext-azure<2.0.0->azure-ai-ml) (2.29.0)\n",
      "Requirement already satisfied: cachetools<6.0,>=2.0.0 in c:\\users\\venila\\appdata\\roaming\\python\\python311\\site-packages (from google-auth<3.0.dev0,>=2.14.1->google-api-core<3.0.0,>=1.0.0->opencensus<1.0.0,>=0.11.4->opencensus-ext-azure<2.0.0->azure-ai-ml) (5.3.3)\n",
      "Requirement already satisfied: pyasn1-modules>=0.2.1 in c:\\programdata\\anaconda3\\lib\\site-packages (from google-auth<3.0.dev0,>=2.14.1->google-api-core<3.0.0,>=1.0.0->opencensus<1.0.0,>=0.11.4->opencensus-ext-azure<2.0.0->azure-ai-ml) (0.2.8)\n",
      "Requirement already satisfied: rsa<5,>=3.1.4 in c:\\users\\venila\\appdata\\roaming\\python\\python311\\site-packages (from google-auth<3.0.dev0,>=2.14.1->google-api-core<3.0.0,>=1.0.0->opencensus<1.0.0,>=0.11.4->opencensus-ext-azure<2.0.0->azure-ai-ml) (4.9)\n",
      "Requirement already satisfied: pyasn1<0.5.0,>=0.4.6 in c:\\programdata\\anaconda3\\lib\\site-packages (from pyasn1-modules>=0.2.1->google-auth<3.0.dev0,>=2.14.1->google-api-core<3.0.0,>=1.0.0->opencensus<1.0.0,>=0.11.4->opencensus-ext-azure<2.0.0->azure-ai-ml) (0.4.8)\n"
     ]
    }
   ],
   "source": [
    "!pip install azure-ai-ml azure-identity"
   ]
  },
  {
   "cell_type": "markdown",
   "id": "fb97b8c5-1217-48dd-8eb1-8045c0a4d8cb",
   "metadata": {},
   "source": [
    "**Importing the dependencies**"
   ]
  },
  {
   "cell_type": "code",
   "execution_count": 2,
   "id": "010a3b41-c11c-466e-a983-1841dad99044",
   "metadata": {},
   "outputs": [],
   "source": [
    "import os\n",
    "import json\n",
    "import datetime\n",
    "\n",
    "from azure.ai.ml import MLClient\n",
    "from azure.ai.ml.entities import (\n",
    "    ManagedOnlineEndpoint,\n",
    "    ManagedOnlineDeployment,\n",
    "    Model,\n",
    "    Environment,\n",
    "    CodeConfiguration,\n",
    ")\n",
    "from azure.identity import DefaultAzureCredential"
   ]
  },
  {
   "cell_type": "markdown",
   "id": "f921f396-62c3-4346-a2d5-e2def852d48e",
   "metadata": {},
   "source": [
    "**Configure the resource details**"
   ]
  },
  {
   "cell_type": "code",
   "execution_count": 3,
   "id": "1931be6a-1f11-4d6f-8377-b0067555fb4c",
   "metadata": {},
   "outputs": [],
   "source": [
    "# laoding the configuration file\n",
    "config_file_path = \"config.json\"\n",
    "\n",
    "# Read JSON data into a dictionary\n",
    "config_data = json.load(open(config_file_path))\n",
    "\n",
    "subscription_id = config_data[\"subscription_id\"]\n",
    "resource_group = config_data[\"resource_group\"]  \n",
    "workspace = config_data[\"workspace\"]\n",
    "location = config_data[\"location\"]"
   ]
  },
  {
   "cell_type": "code",
   "execution_count": 4,
   "id": "687fc2eb-8ff1-4fac-866a-7b0968a34721",
   "metadata": {},
   "outputs": [
    {
     "name": "stdout",
     "output_type": "stream",
     "text": [
      "Deploy-rg\n",
      "Deploy-ws\n",
      "West Europe\n"
     ]
    }
   ],
   "source": [
    "print(resource_group)\n",
    "print(workspace)\n",
    "print(location)"
   ]
  },
  {
   "cell_type": "markdown",
   "id": "47621ca3-2f82-49a0-83f0-858f6dde431f",
   "metadata": {},
   "source": [
    "**Resource_Group and Workspace**"
   ]
  },
  {
   "cell_type": "markdown",
   "id": "186b9cd0-0d1c-4132-90c0-34bb802c179f",
   "metadata": {},
   "source": [
    "**NOTE: Create ResourceGroup and AzureMachineLeanringWorkspace with these names**"
   ]
  },
  {
   "cell_type": "markdown",
   "id": "b9aee796-6b55-4b20-b82c-eb67915b8e7d",
   "metadata": {},
   "source": []
  },
  {
   "cell_type": "code",
   "execution_count": 5,
   "id": "55ddf1ca-4236-4f33-9c99-637292db804b",
   "metadata": {},
   "outputs": [],
   "source": [
    "# get a handle to the workspace\n",
    "ml_client = MLClient(\n",
    "    DefaultAzureCredential(), subscription_id, resource_group, workspace\n",
    ")"
   ]
  },
  {
   "cell_type": "code",
   "execution_count": 6,
   "id": "662a24ae-0af1-45c3-9f66-10dca2baf343",
   "metadata": {},
   "outputs": [],
   "source": [
    "# Define an endpoint name\n",
    "endpoint_name = \"endpt-plant-dis-\" + datetime.datetime.now().strftime(\"%m%d%H%M%f\")\n",
    "\n",
    "# create an online endpoint\n",
    "endpoint = ManagedOnlineEndpoint(\n",
    "    name=endpoint_name,\n",
    "    description=\"This is an online endpoint for predicting Plant diseases\",\n",
    "    auth_mode=\"aml_token\"\n",
    ")"
   ]
  },
  {
   "cell_type": "code",
   "execution_count": 7,
   "id": "2ca52fe3-fc21-4cc4-96a7-a9b176314376",
   "metadata": {},
   "outputs": [
    {
     "name": "stdout",
     "output_type": "stream",
     "text": [
      "endpt-plant-dis-04080036862745\n"
     ]
    }
   ],
   "source": [
    "print(endpoint_name)"
   ]
  },
  {
   "cell_type": "markdown",
   "id": "dc08bddd-ccfc-49a1-a57e-423eef9f9950",
   "metadata": {},
   "source": [
    "**Configuring the environment**"
   ]
  },
  {
   "cell_type": "markdown",
   "id": "1469a73c-8129-4e6e-9353-19bed9ea687e",
   "metadata": {},
   "source": [
    "**NOTE: Check the quotas to make sure that instance type is available in the chosen region**"
   ]
  },
  {
   "cell_type": "markdown",
   "id": "5ffe300c-813d-40bf-925f-eb6ab8762de4",
   "metadata": {},
   "source": [
    "vm sku list: https://learn.microsoft.com/en-us/azure/machine-learning/reference-managed-online-endpoints-vm-sku-list?view=azureml-api-2"
   ]
  },
  {
   "cell_type": "code",
   "execution_count": 9,
   "id": "8b119cec-f365-4b60-9dbd-bb19ebbb5c9b",
   "metadata": {},
   "outputs": [],
   "source": [
    "#Tensorflow Model\n",
    "model = Model(path=r\"C:\\Users\\venila\\Downloads\\plant_disease_prediction_model.h5\")\n",
    "env = Environment(\n",
    "    conda_file=\"conda.yaml\",\n",
    "    image=\"mcr.microsoft.com/azureml/openmpi4.1.0-ubuntu20.04:latest\",\n",
    ")\n",
    "blue_deployment = ManagedOnlineDeployment(\n",
    "    name=\"blue\",\n",
    "    endpoint_name=endpoint_name,\n",
    "    model=model,\n",
    "    environment=env,\n",
    "    code_configuration=CodeConfiguration(\n",
    "        code=\"onlinescoring\", scoring_script=\"score.py\"\n",
    "    ),\n",
    "    instance_type=\"Standard_NC4as_T4_v3\",\n",
    "    instance_count=1,\n",
    ")"
   ]
  },
  {
   "cell_type": "markdown",
   "id": "4914a75d-4a56-4de6-b0e3-93259882b276",
   "metadata": {},
   "source": [
    "**Creating the endpoint**"
   ]
  },
  {
   "cell_type": "code",
   "execution_count": 14,
   "id": "51ae83c1-24f1-4d85-a4ff-7a2dcf927bf5",
   "metadata": {},
   "outputs": [
    {
     "name": "stdout",
     "output_type": "stream",
     "text": [
      "CPU times: user 677 ms, sys: 17.3 ms, total: 695 ms\n",
      "Wall time: 5min 41s\n"
     ]
    }
   ],
   "source": [
    "%%time\n",
    "create_endpoint = ml_client.online_endpoints.begin_create_or_update(endpoint).result()"
   ]
  },
  {
   "cell_type": "markdown",
   "id": "3d96ab98-f3af-4e05-a697-b5772d9150fe",
   "metadata": {},
   "source": [
    "**Deploying the endpoint**"
   ]
  },
  {
   "cell_type": "code",
   "execution_count": 15,
   "id": "4d8bf0fb-42c3-4b84-89e2-fff7459e0b3a",
   "metadata": {},
   "outputs": [
    {
     "name": "stderr",
     "output_type": "stream",
     "text": [
      "Check: endpoint endpt-plant-dis-01272210986922 exists\n",
      "\u001b[32mUploading onlinescoring (0.0 MBs): 100%|██| 4700/4700 [00:01<00:00, 4564.31it/s]\u001b[0m\n",
      "\u001b[39m\n",
      "\n",
      "\u001b[32mUploading plant_disease_prediction_model.h5\u001b[32m (< 1 MB): 499MB [00:42, 11.8MB/s]   \u001b[0m\n",
      "\u001b[39m\n",
      "\n"
     ]
    },
    {
     "name": "stdout",
     "output_type": "stream",
     "text": [
      "..............................................................................................................................................CPU times: user 9.24 s, sys: 2.12 s, total: 11.4 s\n",
      "Wall time: 14min 9s\n"
     ]
    }
   ],
   "source": [
    "%%time\n",
    "deploy_endpoint = ml_client.online_deployments.begin_create_or_update(blue_deployment).result()"
   ]
  },
  {
   "cell_type": "markdown",
   "id": "16e203cf-1558-4ea4-9967-37821b1968d8",
   "metadata": {},
   "source": [
    "**You can print create_endpoint and deploy_endpoint and cjheck teh details**"
   ]
  },
  {
   "cell_type": "code",
   "execution_count": 16,
   "id": "00eca5e7-100b-4c41-9455-284ed7cf5ad6",
   "metadata": {},
   "outputs": [],
   "source": [
    "# blue deployment takes 100 traffic\n",
    "endpoint.traffic = {\"blue\": 100}\n",
    "add_traffic = ml_client.online_endpoints.begin_create_or_update(endpoint).result()"
   ]
  },
  {
   "cell_type": "markdown",
   "id": "5a8eca8b-8b77-4d84-94d2-d3807bfe3ef9",
   "metadata": {},
   "source": [
    "**Get details of the endpoint**"
   ]
  },
  {
   "cell_type": "code",
   "execution_count": 17,
   "id": "3bf6e374-20c9-43d6-94ac-ed14556c5971",
   "metadata": {},
   "outputs": [
    {
     "name": "stdout",
     "output_type": "stream",
     "text": [
      "{'blue': 100}\n",
      "https://endpt-plant-dis-01272210986922.westus.inference.ml.azure.com/score\n"
     ]
    }
   ],
   "source": [
    "# Get the details for online endpoint\n",
    "endpoint = ml_client.online_endpoints.get(name=endpoint_name)\n",
    "\n",
    "# existing traffic details\n",
    "print(endpoint.traffic)\n",
    "\n",
    "# Get the scoring URI\n",
    "print(endpoint.scoring_uri)"
   ]
  },
  {
   "cell_type": "markdown",
   "id": "ef347d7f-3872-44d7-a119-bd82b3737d4f",
   "metadata": {},
   "source": [
    "**Testing the endpoint**"
   ]
  },
  {
   "cell_type": "code",
   "execution_count": 18,
   "id": "d202508e-43b8-4e6f-a2d3-9d7b46129d06",
   "metadata": {},
   "outputs": [],
   "source": [
    "import base64\n",
    "import json\n",
    "\n",
    "# Read the image\n",
    "with open('test_apple_black_rot.JPG', 'rb') as image_file:\n",
    "    image_data = image_file.read()\n",
    "\n",
    "# Convert image to base64\n",
    "image_base64 = base64.b64encode(image_data).decode('utf-8')\n",
    "\n",
    "json_request = json.dumps({'data': image_base64})\n",
    "\n",
    "# Save this JSON as a file\n",
    "json_file_path = 'sample-request.json'  # Specify your desired path for the JSON file\n",
    "with open(json_file_path, 'w') as json_file:\n",
    "    json_file.write(json_request)\n",
    "\n",
    "\n",
    "# test the blue deployment with some sample data\n",
    "response = ml_client.online_endpoints.invoke(\n",
    "    endpoint_name=endpoint_name,\n",
    "    deployment_name=\"blue\",\n",
    "    request_file=\"sample-request.json\",\n",
    ")"
   ]
  },
  {
   "cell_type": "code",
   "execution_count": 19,
   "id": "116ba220-0707-4449-88c5-c267e2dfbc67",
   "metadata": {},
   "outputs": [
    {
     "name": "stdout",
     "output_type": "stream",
     "text": [
      "\"{\\\"Predicted Class Name\\\": \\\"Apple___Black_rot\\\"}\"\n"
     ]
    }
   ],
   "source": [
    "print(response)"
   ]
  },
  {
   "cell_type": "code",
   "execution_count": 20,
   "id": "64a2d034-dcdd-4419-8482-92abe505585b",
   "metadata": {},
   "outputs": [
    {
     "name": "stdout",
     "output_type": "stream",
     "text": [
      "{\"Predicted Class Name\": \"Apple___Black_rot\"}\n"
     ]
    }
   ],
   "source": [
    "# Convert the string to a dictionary\n",
    "prediction = json.loads(response)\n",
    "\n",
    "# Now dict_data is a Python dictionary\n",
    "print(prediction)"
   ]
  },
  {
   "cell_type": "markdown",
   "id": "30392e0c-8e33-4498-bba5-f91e3a681abd",
   "metadata": {},
   "source": [
    "get AML token: https://learn.microsoft.com/en-us/rest/api/azureml/online-endpoints/get-token?view=rest-azureml-2023-10-01&tabs=HTTP"
   ]
  },
  {
   "cell_type": "code",
   "execution_count": 21,
   "id": "71204908-4259-43f7-b244-5ead41703ed9",
   "metadata": {},
   "outputs": [
    {
     "name": "stdout",
     "output_type": "stream",
     "text": [
      "deploy-rg\n",
      "deploy-ws\n",
      "endpt-plant-dis-04080036862745\n",
      "deploy-rg\n"
     ]
    }
   ],
   "source": [
    "print(resource_group)\n",
    "print(workspace)\n",
    "print(endpoint_name)\n",
    "print(resource_group)"
   ]
  },
  {
   "cell_type": "markdown",
   "id": "04d5d979-fa21-463d-aedc-c84930377990",
   "metadata": {},
   "source": [
    "Getting the logs"
   ]
  },
  {
   "cell_type": "code",
   "execution_count": null,
   "id": "a9db2a0d-3cfa-42c7-8982-d671dc5f36f0",
   "metadata": {
    "scrolled": true
   },
   "outputs": [],
   "source": [
    "ml_client.online_deployments.get_logs(\n",
    "    name=\"blue\", endpoint_name=endpoint_name, lines=50\n",
    ")"
   ]
  },
  {
   "cell_type": "markdown",
   "id": "439c26fe-2523-42a5-b739-c934da1c0891",
   "metadata": {},
   "source": [
    "Deleting the endpoint"
   ]
  },
  {
   "cell_type": "code",
   "execution_count": null,
   "id": "9f862b2e-e3d9-4656-9075-e9316a6bafb9",
   "metadata": {},
   "outputs": [],
   "source": [
    "# deleting the endpoint\n",
    "#ml_client.online_endpoints.begin_delete(name=endpoint_name)"
   ]
  },
  {
   "cell_type": "code",
   "execution_count": null,
   "id": "8870836c-62ea-44e2-a594-933a0a867a07",
   "metadata": {},
   "outputs": [],
   "source": []
  },
  {
   "cell_type": "markdown",
   "id": "41f0511d-dc1b-4d49-8be4-470cd4d7049a",
   "metadata": {},
   "source": [
    "**NOTE: Clean up the resources**"
   ]
  },
  {
   "cell_type": "code",
   "execution_count": null,
   "id": "0978bc51-ea6a-405b-92e6-b8d55a693817",
   "metadata": {},
   "outputs": [],
   "source": []
  },
  {
   "cell_type": "code",
   "execution_count": null,
   "id": "cc1e574b-3eab-4b57-aa41-2ae3223bee83",
   "metadata": {},
   "outputs": [],
   "source": []
  }
 ],
 "metadata": {
  "kernelspec": {
   "display_name": "Python 3 (ipykernel)",
   "language": "python",
   "name": "python3"
  },
  "language_info": {
   "codemirror_mode": {
    "name": "ipython",
    "version": 3
   },
   "file_extension": ".py",
   "mimetype": "text/x-python",
   "name": "python",
   "nbconvert_exporter": "python",
   "pygments_lexer": "ipython3",
   "version": "3.11.5"
  }
 },
 "nbformat": 4,
 "nbformat_minor": 5
}
